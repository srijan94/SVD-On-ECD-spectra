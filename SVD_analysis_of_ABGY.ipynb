{
 "cells": [
  {
   "cell_type": "markdown",
   "id": "crucial-death",
   "metadata": {},
   "source": [
    "# Singular value decomposition analysis of Electronic Circular Dichorism spectra of a synthesized peptide ABGY "
   ]
  },
  {
   "cell_type": "markdown",
   "id": "enclosed-sunset",
   "metadata": {},
   "source": [
    "Here we have an electronic circular dichorism spectra of custom made peptide ABGY dissolved in 2,2,2-trifluoroethanol (TFE) in 30% water.Circular dichorism spectroscopy is done from wavelength 190 to 250 nm with a space of 1 nm with temperature variation 5 degree celcius to 55 degree celcius.Mean residue elipsity also calculated."
   ]
  },
  {
   "cell_type": "code",
   "execution_count": 70,
   "id": "skilled-master",
   "metadata": {},
   "outputs": [],
   "source": [
    "import pandas as pd\n",
    "import matplotlib.pyplot as plt \n",
    "from sklearn.decomposition import TruncatedSVD\n"
   ]
  },
  {
   "cell_type": "code",
   "execution_count": 39,
   "id": "disabled-worker",
   "metadata": {},
   "outputs": [],
   "source": [
    "data=pd.read_csv(\"ABGY_30TFE_MRE.csv\")"
   ]
  },
  {
   "cell_type": "code",
   "execution_count": 71,
   "id": "actual-contrary",
   "metadata": {},
   "outputs": [
    {
     "data": {
      "text/html": [
       "<div>\n",
       "<style scoped>\n",
       "    .dataframe tbody tr th:only-of-type {\n",
       "        vertical-align: middle;\n",
       "    }\n",
       "\n",
       "    .dataframe tbody tr th {\n",
       "        vertical-align: top;\n",
       "    }\n",
       "\n",
       "    .dataframe thead th {\n",
       "        text-align: right;\n",
       "    }\n",
       "</style>\n",
       "<table border=\"1\" class=\"dataframe\">\n",
       "  <thead>\n",
       "    <tr style=\"text-align: right;\">\n",
       "      <th></th>\n",
       "      <th>Wavelength</th>\n",
       "      <th>5</th>\n",
       "      <th>10</th>\n",
       "      <th>15</th>\n",
       "      <th>20</th>\n",
       "      <th>25</th>\n",
       "      <th>30</th>\n",
       "      <th>35</th>\n",
       "      <th>40</th>\n",
       "      <th>45</th>\n",
       "      <th>50</th>\n",
       "      <th>55</th>\n",
       "    </tr>\n",
       "  </thead>\n",
       "  <tbody>\n",
       "    <tr>\n",
       "      <th>0</th>\n",
       "      <td>250</td>\n",
       "      <td>0.02598</td>\n",
       "      <td>0.00587</td>\n",
       "      <td>0.00960</td>\n",
       "      <td>0.01137</td>\n",
       "      <td>0.00994</td>\n",
       "      <td>0.01919</td>\n",
       "      <td>0.03173</td>\n",
       "      <td>0.01193</td>\n",
       "      <td>0.01662</td>\n",
       "      <td>0.01293</td>\n",
       "      <td>0.03156</td>\n",
       "    </tr>\n",
       "    <tr>\n",
       "      <th>1</th>\n",
       "      <td>249</td>\n",
       "      <td>-0.03709</td>\n",
       "      <td>-0.08021</td>\n",
       "      <td>-0.02629</td>\n",
       "      <td>-0.04551</td>\n",
       "      <td>0.02990</td>\n",
       "      <td>0.01352</td>\n",
       "      <td>-0.02846</td>\n",
       "      <td>-0.10790</td>\n",
       "      <td>0.03388</td>\n",
       "      <td>-0.09945</td>\n",
       "      <td>-0.06012</td>\n",
       "    </tr>\n",
       "    <tr>\n",
       "      <th>2</th>\n",
       "      <td>248</td>\n",
       "      <td>-0.06712</td>\n",
       "      <td>-0.13180</td>\n",
       "      <td>-0.05925</td>\n",
       "      <td>-0.08904</td>\n",
       "      <td>0.00155</td>\n",
       "      <td>-0.00317</td>\n",
       "      <td>-0.06956</td>\n",
       "      <td>-0.20628</td>\n",
       "      <td>0.01987</td>\n",
       "      <td>-0.17144</td>\n",
       "      <td>-0.10990</td>\n",
       "    </tr>\n",
       "    <tr>\n",
       "      <th>3</th>\n",
       "      <td>247</td>\n",
       "      <td>-0.08384</td>\n",
       "      <td>-0.16958</td>\n",
       "      <td>-0.09611</td>\n",
       "      <td>-0.13163</td>\n",
       "      <td>-0.05963</td>\n",
       "      <td>-0.03388</td>\n",
       "      <td>-0.10649</td>\n",
       "      <td>-0.28842</td>\n",
       "      <td>-0.01958</td>\n",
       "      <td>-0.22223</td>\n",
       "      <td>-0.14233</td>\n",
       "    </tr>\n",
       "    <tr>\n",
       "      <th>4</th>\n",
       "      <td>246</td>\n",
       "      <td>-0.10484</td>\n",
       "      <td>-0.21135</td>\n",
       "      <td>-0.14425</td>\n",
       "      <td>-0.18450</td>\n",
       "      <td>-0.14419</td>\n",
       "      <td>-0.08244</td>\n",
       "      <td>-0.15174</td>\n",
       "      <td>-0.36137</td>\n",
       "      <td>-0.08150</td>\n",
       "      <td>-0.26829</td>\n",
       "      <td>-0.17683</td>\n",
       "    </tr>\n",
       "    <tr>\n",
       "      <th>...</th>\n",
       "      <td>...</td>\n",
       "      <td>...</td>\n",
       "      <td>...</td>\n",
       "      <td>...</td>\n",
       "      <td>...</td>\n",
       "      <td>...</td>\n",
       "      <td>...</td>\n",
       "      <td>...</td>\n",
       "      <td>...</td>\n",
       "      <td>...</td>\n",
       "      <td>...</td>\n",
       "      <td>...</td>\n",
       "    </tr>\n",
       "    <tr>\n",
       "      <th>56</th>\n",
       "      <td>194</td>\n",
       "      <td>26.47096</td>\n",
       "      <td>24.90628</td>\n",
       "      <td>23.57543</td>\n",
       "      <td>22.04908</td>\n",
       "      <td>20.71968</td>\n",
       "      <td>19.70338</td>\n",
       "      <td>18.31964</td>\n",
       "      <td>16.76052</td>\n",
       "      <td>15.37130</td>\n",
       "      <td>14.30818</td>\n",
       "      <td>12.62164</td>\n",
       "    </tr>\n",
       "    <tr>\n",
       "      <th>57</th>\n",
       "      <td>193</td>\n",
       "      <td>28.48944</td>\n",
       "      <td>26.81995</td>\n",
       "      <td>25.33367</td>\n",
       "      <td>23.76854</td>\n",
       "      <td>22.46394</td>\n",
       "      <td>21.33965</td>\n",
       "      <td>19.82187</td>\n",
       "      <td>18.32602</td>\n",
       "      <td>16.84193</td>\n",
       "      <td>15.79701</td>\n",
       "      <td>13.88216</td>\n",
       "    </tr>\n",
       "    <tr>\n",
       "      <th>58</th>\n",
       "      <td>192</td>\n",
       "      <td>29.35087</td>\n",
       "      <td>27.68662</td>\n",
       "      <td>26.04785</td>\n",
       "      <td>24.50127</td>\n",
       "      <td>23.29454</td>\n",
       "      <td>22.10943</td>\n",
       "      <td>20.42095</td>\n",
       "      <td>19.08390</td>\n",
       "      <td>17.68246</td>\n",
       "      <td>16.62586</td>\n",
       "      <td>14.72678</td>\n",
       "    </tr>\n",
       "    <tr>\n",
       "      <th>59</th>\n",
       "      <td>191</td>\n",
       "      <td>28.94915</td>\n",
       "      <td>27.46097</td>\n",
       "      <td>25.66478</td>\n",
       "      <td>24.19290</td>\n",
       "      <td>23.15269</td>\n",
       "      <td>21.98274</td>\n",
       "      <td>20.04631</td>\n",
       "      <td>18.96376</td>\n",
       "      <td>17.90254</td>\n",
       "      <td>16.75020</td>\n",
       "      <td>15.27915</td>\n",
       "    </tr>\n",
       "    <tr>\n",
       "      <th>60</th>\n",
       "      <td>190</td>\n",
       "      <td>27.24237</td>\n",
       "      <td>26.17857</td>\n",
       "      <td>24.20788</td>\n",
       "      <td>22.86006</td>\n",
       "      <td>22.04323</td>\n",
       "      <td>21.00164</td>\n",
       "      <td>18.68561</td>\n",
       "      <td>17.94617</td>\n",
       "      <td>17.57826</td>\n",
       "      <td>16.17440</td>\n",
       "      <td>15.75811</td>\n",
       "    </tr>\n",
       "  </tbody>\n",
       "</table>\n",
       "<p>61 rows × 12 columns</p>\n",
       "</div>"
      ],
      "text/plain": [
       "    Wavelength         5        10        15        20        25        30  \\\n",
       "0          250   0.02598   0.00587   0.00960   0.01137   0.00994   0.01919   \n",
       "1          249  -0.03709  -0.08021  -0.02629  -0.04551   0.02990   0.01352   \n",
       "2          248  -0.06712  -0.13180  -0.05925  -0.08904   0.00155  -0.00317   \n",
       "3          247  -0.08384  -0.16958  -0.09611  -0.13163  -0.05963  -0.03388   \n",
       "4          246  -0.10484  -0.21135  -0.14425  -0.18450  -0.14419  -0.08244   \n",
       "..         ...       ...       ...       ...       ...       ...       ...   \n",
       "56         194  26.47096  24.90628  23.57543  22.04908  20.71968  19.70338   \n",
       "57         193  28.48944  26.81995  25.33367  23.76854  22.46394  21.33965   \n",
       "58         192  29.35087  27.68662  26.04785  24.50127  23.29454  22.10943   \n",
       "59         191  28.94915  27.46097  25.66478  24.19290  23.15269  21.98274   \n",
       "60         190  27.24237  26.17857  24.20788  22.86006  22.04323  21.00164   \n",
       "\n",
       "          35        40        45        50        55  \n",
       "0    0.03173   0.01193   0.01662   0.01293   0.03156  \n",
       "1   -0.02846  -0.10790   0.03388  -0.09945  -0.06012  \n",
       "2   -0.06956  -0.20628   0.01987  -0.17144  -0.10990  \n",
       "3   -0.10649  -0.28842  -0.01958  -0.22223  -0.14233  \n",
       "4   -0.15174  -0.36137  -0.08150  -0.26829  -0.17683  \n",
       "..       ...       ...       ...       ...       ...  \n",
       "56  18.31964  16.76052  15.37130  14.30818  12.62164  \n",
       "57  19.82187  18.32602  16.84193  15.79701  13.88216  \n",
       "58  20.42095  19.08390  17.68246  16.62586  14.72678  \n",
       "59  20.04631  18.96376  17.90254  16.75020  15.27915  \n",
       "60  18.68561  17.94617  17.57826  16.17440  15.75811  \n",
       "\n",
       "[61 rows x 12 columns]"
      ]
     },
     "execution_count": 71,
     "metadata": {},
     "output_type": "execute_result"
    }
   ],
   "source": [
    "data"
   ]
  },
  {
   "cell_type": "markdown",
   "id": "present-fighter",
   "metadata": {},
   "source": [
    "With the help of ECD spectrum it will be easier for us to know the underlying secondary structure of this peptide.But this data has based on 11 temperatures."
   ]
  },
  {
   "cell_type": "code",
   "execution_count": 76,
   "id": "junior-fishing",
   "metadata": {},
   "outputs": [
    {
     "data": {
      "image/png": "[encoded data removed]",
      "text/plain": [
       "<Figure size 504x360 with 1 Axes>"
      ]
     },
     "metadata": {
      "needs_background": "light"
     },
     "output_type": "display_data"
    }
   ],
   "source": [
    "data.plot.line(x='Wavelength',y=['5','10','15','20','25','30','35','40','45','50','55'],figsize=(7,5),colormap='jet')\n",
    "plt.xlabel('Wavelength(nm)')\n",
    "plt.ylabel('[theta]deg.cm2.dmol-1x10-3')\n",
    "plt.title('Solvent- and Temperature-Dependent ECD Spectra of ABGY Peptide')\n",
    "plt.xlim([190,250])\n",
    "plt.axhline(0, color='black',lw=0.5)\n",
    "plt.show()"
   ]
  },
  {
   "cell_type": "markdown",
   "id": "patent-calculator",
   "metadata": {},
   "source": [
    "As this data has 11 columns it is cumbersome to get insight of this data.Dimensionality reduction technique such as SVD can be used to get the main components of the spectrum. "
   ]
  },
  {
   "cell_type": "code",
   "execution_count": 43,
   "id": "french-discharge",
   "metadata": {},
   "outputs": [],
   "source": [
    "Wavelength=data['Wavelength']"
   ]
  },
  {
   "cell_type": "code",
   "execution_count": 44,
   "id": "instructional-handling",
   "metadata": {},
   "outputs": [],
   "source": [
    "spectrum=data.iloc[:,1:]"
   ]
  },
  {
   "cell_type": "markdown",
   "id": "continued-carry",
   "metadata": {},
   "source": [
    "As SVD is a unsupervised machine learning algorithm spectrum and wavelength are separted."
   ]
  },
  {
   "cell_type": "code",
   "execution_count": 45,
   "id": "anticipated-native",
   "metadata": {},
   "outputs": [],
   "source": [
    "svd = TruncatedSVD(n_components=2)\n",
    "svd.fit(spectrum)\n",
    "svds = svd.transform(spectrum)\n",
    "output_df=pd.DataFrame(svds,columns=['SVD1','SVD2'])"
   ]
  },
  {
   "cell_type": "markdown",
   "id": "approved-weapon",
   "metadata": {},
   "source": [
    "In TrunkatedSVD algorithm hyperparameter is the number of components.From the domain knowledge we know there are mainly two prperties of this peptide's ECD spectrum.First one is helix making properties and second one is random coil property. so n_components is kept 2 here."
   ]
  },
  {
   "cell_type": "code",
   "execution_count": 55,
   "id": "mechanical-electron",
   "metadata": {},
   "outputs": [
    {
     "data": {
      "text/html": [
       "<div>\n",
       "<style scoped>\n",
       "    .dataframe tbody tr th:only-of-type {\n",
       "        vertical-align: middle;\n",
       "    }\n",
       "\n",
       "    .dataframe tbody tr th {\n",
       "        vertical-align: top;\n",
       "    }\n",
       "\n",
       "    .dataframe thead th {\n",
       "        text-align: right;\n",
       "    }\n",
       "</style>\n",
       "<table border=\"1\" class=\"dataframe\">\n",
       "  <thead>\n",
       "    <tr style=\"text-align: right;\">\n",
       "      <th></th>\n",
       "      <th>Wavelength</th>\n",
       "      <th>SVD1</th>\n",
       "      <th>SVD2</th>\n",
       "    </tr>\n",
       "  </thead>\n",
       "  <tbody>\n",
       "    <tr>\n",
       "      <th>0</th>\n",
       "      <td>250</td>\n",
       "      <td>0.053692</td>\n",
       "      <td>-0.018053</td>\n",
       "    </tr>\n",
       "    <tr>\n",
       "      <th>1</th>\n",
       "      <td>249</td>\n",
       "      <td>-0.118131</td>\n",
       "      <td>0.043380</td>\n",
       "    </tr>\n",
       "    <tr>\n",
       "      <th>2</th>\n",
       "      <td>248</td>\n",
       "      <td>-0.255859</td>\n",
       "      <td>0.096317</td>\n",
       "    </tr>\n",
       "    <tr>\n",
       "      <th>3</th>\n",
       "      <td>247</td>\n",
       "      <td>-0.390969</td>\n",
       "      <td>0.144525</td>\n",
       "    </tr>\n",
       "    <tr>\n",
       "      <th>4</th>\n",
       "      <td>246</td>\n",
       "      <td>-0.553760</td>\n",
       "      <td>0.191109</td>\n",
       "    </tr>\n",
       "    <tr>\n",
       "      <th>...</th>\n",
       "      <td>...</td>\n",
       "      <td>...</td>\n",
       "      <td>...</td>\n",
       "    </tr>\n",
       "    <tr>\n",
       "      <th>56</th>\n",
       "      <td>194</td>\n",
       "      <td>66.272492</td>\n",
       "      <td>2.202967</td>\n",
       "    </tr>\n",
       "    <tr>\n",
       "      <th>57</th>\n",
       "      <td>193</td>\n",
       "      <td>71.752650</td>\n",
       "      <td>1.856537</td>\n",
       "    </tr>\n",
       "    <tr>\n",
       "      <th>58</th>\n",
       "      <td>192</td>\n",
       "      <td>74.318269</td>\n",
       "      <td>1.394483</td>\n",
       "    </tr>\n",
       "    <tr>\n",
       "      <th>59</th>\n",
       "      <td>191</td>\n",
       "      <td>73.828558</td>\n",
       "      <td>0.724480</td>\n",
       "    </tr>\n",
       "    <tr>\n",
       "      <th>60</th>\n",
       "      <td>190</td>\n",
       "      <td>70.365408</td>\n",
       "      <td>-0.280212</td>\n",
       "    </tr>\n",
       "  </tbody>\n",
       "</table>\n",
       "<p>61 rows × 3 columns</p>\n",
       "</div>"
      ],
      "text/plain": [
       "    Wavelength       SVD1      SVD2\n",
       "0          250   0.053692 -0.018053\n",
       "1          249  -0.118131  0.043380\n",
       "2          248  -0.255859  0.096317\n",
       "3          247  -0.390969  0.144525\n",
       "4          246  -0.553760  0.191109\n",
       "..         ...        ...       ...\n",
       "56         194  66.272492  2.202967\n",
       "57         193  71.752650  1.856537\n",
       "58         192  74.318269  1.394483\n",
       "59         191  73.828558  0.724480\n",
       "60         190  70.365408 -0.280212\n",
       "\n",
       "[61 rows x 3 columns]"
      ]
     },
     "execution_count": 55,
     "metadata": {},
     "output_type": "execute_result"
    }
   ],
   "source": [
    "final_output=pd.concat([Wavelength,output_df], axis=1)\n",
    "final_output"
   ]
  },
  {
   "cell_type": "code",
   "execution_count": 81,
   "id": "friendly-isolation",
   "metadata": {},
   "outputs": [
    {
     "data": {
      "image/png": "[encoded data removed]",
      "text/plain": [
       "<Figure size 504x360 with 1 Axes>"
      ]
     },
     "metadata": {
      "needs_background": "light"
     },
     "output_type": "display_data"
    }
   ],
   "source": [
    "final_output.plot.line(x='Wavelength',y=['SVD1','SVD2'],figsize=(7,5),colormap='jet')\n",
    "plt.xlabel('Wavelength(nm)')\n",
    "plt.ylabel('[theta]deg.cm2.dmol-1x10-3')\n",
    "plt.title('SVD analysis of solvent- and Temperature-Dependent ECD Spectra of ABGY Peptide')\n",
    "plt.xlim([190,250])\n",
    "plt.axhline(0, color='black',lw=0.5)\n",
    "plt.show()"
   ]
  },
  {
   "cell_type": "code",
   "execution_count": 79,
   "id": "increasing-management",
   "metadata": {},
   "outputs": [
    {
     "name": "stdout",
     "output_type": "stream",
     "text": [
      "Variance explained by SVD1: 0.9978870735992115\n",
      "Variance explained by SVD2: 0.0019780403203154707\n"
     ]
    }
   ],
   "source": [
    "print(\"Variance explained by SVD1:\",svd.explained_variance_ratio_[0])\n",
    "print(\"Variance explained by SVD2:\",svd.explained_variance_ratio_[1])"
   ]
  },
  {
   "cell_type": "code",
   "execution_count": 80,
   "id": "ancient-determination",
   "metadata": {},
   "outputs": [
    {
     "name": "stdout",
     "output_type": "stream",
     "text": [
      "Total varience explained by SVD1 and SVD2: 0.9998651139195269\n"
     ]
    }
   ],
   "source": [
    "print(\"Total varience explained by SVD1 and SVD2:\",svd.explained_variance_ratio_.sum())"
   ]
  },
  {
   "cell_type": "markdown",
   "id": "angry-omega",
   "metadata": {},
   "source": [
    "Observations:\n",
    "Approx 99.8% varience explained by SVD1.so SVD1 represents helix making properties.\n",
    "and only 0.002% varience explained by SVD2.so SVD2 represents random coil properties of the peptides."
   ]
  },
  {
   "cell_type": "markdown",
   "id": "attended-dimension",
   "metadata": {},
   "source": [
    "Reference:\n",
    "1.https://en.wikipedia.org/wiki/Singular_value_decomposition\n",
    "        2.https://scikit-learn.org/stable/modules/generated/sklearn.decomposition.TruncatedSVD.html\n",
    "            \n",
    "3.Tomoki Shiratori, Satoru Goto, Tomoyo Sakaguchi, Takahiro Kasai, Yuta Otsuka, Kyohei Higashi, Kosho Makino, Hideyo Takahashi, Kazushi Komatsu,\n",
    "Singular value decomposition analysis of the secondary structure features contributing to the circular dichroism spectra of model proteins,\n",
    "Biochemistry and Biophysics Reports,Volume 28,2021,101153,ISSN 2405-5808,https://doi.org/10.1016/j.bbrep.2021.101153.\n",
    "            "
   ]
  },
  {
   "cell_type": "code",
   "execution_count": null,
   "id": "settled-sheep",
   "metadata": {},
   "outputs": [],
   "source": []
  }
 ],
 "metadata": {
  "kernelspec": {
   "display_name": "Python 3",
   "language": "python",
   "name": "python3"
  },
  "language_info": {
   "codemirror_mode": {
    "name": "ipython",
    "version": 3
   },
   "file_extension": ".py",
   "mimetype": "text/x-python",
   "name": "python",
   "nbconvert_exporter": "python",
   "pygments_lexer": "ipython3",
   "version": "3.6.3rc1"
  }
 },
 "nbformat": 4,
 "nbformat_minor": 5
}
